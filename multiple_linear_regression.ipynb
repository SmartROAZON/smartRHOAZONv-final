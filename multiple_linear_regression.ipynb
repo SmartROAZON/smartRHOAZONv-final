{
 "cells": [
  {
   "cell_type": "code",
   "execution_count": 181,
   "metadata": {},
   "outputs": [],
   "source": [
    "import sys\n",
    "import pandas as pd\n",
    "import numpy as np\n",
    "from sklearn import cluster, datasets, linear_model\n",
    "import matplotlib.pyplot as plt\n",
    "from matplotlib.figure import Figure\n",
    "from sklearn.metrics import mean_squared_error, r2_score\n",
    "from sklearn.model_selection  import train_test_split\n",
    "import seaborn as sns"
   ]
  },
  {
   "cell_type": "code",
   "execution_count": 182,
   "metadata": {},
   "outputs": [],
   "source": [
    "data_etudiant=pd.read_csv(\"data\\dataSet_NbrEtudiant_sexe.csv\", sep=';')\n",
    "data_etudiant[\"Nombre Etudiant Total\"]=data_etudiant[\"Nombre Etudiant Femme\"]+data_etudiant[\"Nombre Etudiant Male\"]\n",
    "data_logement=pd.read_csv(\"data\\\\NumberConstructionPerYear.csv\", sep=';')"
   ]
  },
  {
   "cell_type": "code",
   "execution_count": 183,
   "metadata": {},
   "outputs": [
    {
     "data": {
      "text/html": [
       "<div>\n",
       "<style scoped>\n",
       "    .dataframe tbody tr th:only-of-type {\n",
       "        vertical-align: middle;\n",
       "    }\n",
       "\n",
       "    .dataframe tbody tr th {\n",
       "        vertical-align: top;\n",
       "    }\n",
       "\n",
       "    .dataframe thead th {\n",
       "        text-align: right;\n",
       "    }\n",
       "</style>\n",
       "<table border=\"1\" class=\"dataframe\">\n",
       "  <thead>\n",
       "    <tr style=\"text-align: right;\">\n",
       "      <th></th>\n",
       "      <th>rentrée</th>\n",
       "      <th>Nombre Etudiant Femme</th>\n",
       "      <th>Nombre Etudiant Male</th>\n",
       "      <th>Nombre Etudiant Total</th>\n",
       "    </tr>\n",
       "  </thead>\n",
       "  <tbody>\n",
       "    <tr>\n",
       "      <th>0</th>\n",
       "      <td>2001</td>\n",
       "      <td>235604.0</td>\n",
       "      <td>189282.0</td>\n",
       "      <td>424886.0</td>\n",
       "    </tr>\n",
       "    <tr>\n",
       "      <th>1</th>\n",
       "      <td>2002</td>\n",
       "      <td>243258.0</td>\n",
       "      <td>193056.0</td>\n",
       "      <td>436314.0</td>\n",
       "    </tr>\n",
       "    <tr>\n",
       "      <th>2</th>\n",
       "      <td>2003</td>\n",
       "      <td>253350.0</td>\n",
       "      <td>198248.0</td>\n",
       "      <td>451598.0</td>\n",
       "    </tr>\n",
       "    <tr>\n",
       "      <th>3</th>\n",
       "      <td>2004</td>\n",
       "      <td>254930.0</td>\n",
       "      <td>198848.0</td>\n",
       "      <td>453778.0</td>\n",
       "    </tr>\n",
       "    <tr>\n",
       "      <th>4</th>\n",
       "      <td>2005</td>\n",
       "      <td>251174.0</td>\n",
       "      <td>197498.0</td>\n",
       "      <td>448672.0</td>\n",
       "    </tr>\n",
       "    <tr>\n",
       "      <th>5</th>\n",
       "      <td>2006</td>\n",
       "      <td>243340.0</td>\n",
       "      <td>192589.0</td>\n",
       "      <td>435929.0</td>\n",
       "    </tr>\n",
       "    <tr>\n",
       "      <th>6</th>\n",
       "      <td>2007</td>\n",
       "      <td>241098.0</td>\n",
       "      <td>190700.0</td>\n",
       "      <td>431798.0</td>\n",
       "    </tr>\n",
       "    <tr>\n",
       "      <th>7</th>\n",
       "      <td>2008</td>\n",
       "      <td>237630.0</td>\n",
       "      <td>188236.0</td>\n",
       "      <td>425866.0</td>\n",
       "    </tr>\n",
       "    <tr>\n",
       "      <th>8</th>\n",
       "      <td>2009</td>\n",
       "      <td>242831.0</td>\n",
       "      <td>193006.0</td>\n",
       "      <td>435837.0</td>\n",
       "    </tr>\n",
       "    <tr>\n",
       "      <th>9</th>\n",
       "      <td>2010</td>\n",
       "      <td>251084.0</td>\n",
       "      <td>198830.0</td>\n",
       "      <td>449914.0</td>\n",
       "    </tr>\n",
       "    <tr>\n",
       "      <th>10</th>\n",
       "      <td>2011</td>\n",
       "      <td>260606.0</td>\n",
       "      <td>207160.0</td>\n",
       "      <td>467766.0</td>\n",
       "    </tr>\n",
       "    <tr>\n",
       "      <th>11</th>\n",
       "      <td>2012</td>\n",
       "      <td>265782.0</td>\n",
       "      <td>211202.0</td>\n",
       "      <td>476984.0</td>\n",
       "    </tr>\n",
       "    <tr>\n",
       "      <th>12</th>\n",
       "      <td>2013</td>\n",
       "      <td>269678.0</td>\n",
       "      <td>216577.0</td>\n",
       "      <td>486255.0</td>\n",
       "    </tr>\n",
       "    <tr>\n",
       "      <th>13</th>\n",
       "      <td>2014</td>\n",
       "      <td>273255.0</td>\n",
       "      <td>221714.0</td>\n",
       "      <td>494969.0</td>\n",
       "    </tr>\n",
       "    <tr>\n",
       "      <th>14</th>\n",
       "      <td>2015</td>\n",
       "      <td>281565.0</td>\n",
       "      <td>227933.0</td>\n",
       "      <td>509498.0</td>\n",
       "    </tr>\n",
       "    <tr>\n",
       "      <th>15</th>\n",
       "      <td>2016</td>\n",
       "      <td>286039.0</td>\n",
       "      <td>233861.0</td>\n",
       "      <td>519900.0</td>\n",
       "    </tr>\n",
       "  </tbody>\n",
       "</table>\n",
       "</div>"
      ],
      "text/plain": [
       "    rentrée  Nombre Etudiant Femme  Nombre Etudiant Male  \\\n",
       "0      2001               235604.0              189282.0   \n",
       "1      2002               243258.0              193056.0   \n",
       "2      2003               253350.0              198248.0   \n",
       "3      2004               254930.0              198848.0   \n",
       "4      2005               251174.0              197498.0   \n",
       "5      2006               243340.0              192589.0   \n",
       "6      2007               241098.0              190700.0   \n",
       "7      2008               237630.0              188236.0   \n",
       "8      2009               242831.0              193006.0   \n",
       "9      2010               251084.0              198830.0   \n",
       "10     2011               260606.0              207160.0   \n",
       "11     2012               265782.0              211202.0   \n",
       "12     2013               269678.0              216577.0   \n",
       "13     2014               273255.0              221714.0   \n",
       "14     2015               281565.0              227933.0   \n",
       "15     2016               286039.0              233861.0   \n",
       "\n",
       "    Nombre Etudiant Total  \n",
       "0                424886.0  \n",
       "1                436314.0  \n",
       "2                451598.0  \n",
       "3                453778.0  \n",
       "4                448672.0  \n",
       "5                435929.0  \n",
       "6                431798.0  \n",
       "7                425866.0  \n",
       "8                435837.0  \n",
       "9                449914.0  \n",
       "10               467766.0  \n",
       "11               476984.0  \n",
       "12               486255.0  \n",
       "13               494969.0  \n",
       "14               509498.0  \n",
       "15               519900.0  "
      ]
     },
     "execution_count": 183,
     "metadata": {},
     "output_type": "execute_result"
    }
   ],
   "source": [
    "data_etudiant\n"
   ]
  },
  {
   "cell_type": "code",
   "execution_count": 184,
   "metadata": {},
   "outputs": [
    {
     "data": {
      "text/html": [
       "<div>\n",
       "<style scoped>\n",
       "    .dataframe tbody tr th:only-of-type {\n",
       "        vertical-align: middle;\n",
       "    }\n",
       "\n",
       "    .dataframe tbody tr th {\n",
       "        vertical-align: top;\n",
       "    }\n",
       "\n",
       "    .dataframe thead th {\n",
       "        text-align: right;\n",
       "    }\n",
       "</style>\n",
       "<table border=\"1\" class=\"dataframe\">\n",
       "  <thead>\n",
       "    <tr style=\"text-align: right;\">\n",
       "      <th></th>\n",
       "      <th>year</th>\n",
       "      <th>NumberConstructionPeerYear</th>\n",
       "      <th>T1</th>\n",
       "      <th>T2</th>\n",
       "      <th>T3</th>\n",
       "      <th>T4</th>\n",
       "    </tr>\n",
       "  </thead>\n",
       "  <tbody>\n",
       "    <tr>\n",
       "      <th>0</th>\n",
       "      <td>2013</td>\n",
       "      <td>11</td>\n",
       "      <td>50</td>\n",
       "      <td>40</td>\n",
       "      <td>30</td>\n",
       "      <td>20</td>\n",
       "    </tr>\n",
       "    <tr>\n",
       "      <th>1</th>\n",
       "      <td>2014</td>\n",
       "      <td>104</td>\n",
       "      <td>40</td>\n",
       "      <td>40</td>\n",
       "      <td>20</td>\n",
       "      <td>14</td>\n",
       "    </tr>\n",
       "    <tr>\n",
       "      <th>2</th>\n",
       "      <td>2015</td>\n",
       "      <td>88</td>\n",
       "      <td>60</td>\n",
       "      <td>50</td>\n",
       "      <td>25</td>\n",
       "      <td>23</td>\n",
       "    </tr>\n",
       "    <tr>\n",
       "      <th>3</th>\n",
       "      <td>2016</td>\n",
       "      <td>86</td>\n",
       "      <td>70</td>\n",
       "      <td>60</td>\n",
       "      <td>36</td>\n",
       "      <td>40</td>\n",
       "    </tr>\n",
       "    <tr>\n",
       "      <th>4</th>\n",
       "      <td>2017</td>\n",
       "      <td>96</td>\n",
       "      <td>75</td>\n",
       "      <td>50</td>\n",
       "      <td>45</td>\n",
       "      <td>37</td>\n",
       "    </tr>\n",
       "    <tr>\n",
       "      <th>5</th>\n",
       "      <td>2018</td>\n",
       "      <td>60</td>\n",
       "      <td>78</td>\n",
       "      <td>60</td>\n",
       "      <td>30</td>\n",
       "      <td>28</td>\n",
       "    </tr>\n",
       "  </tbody>\n",
       "</table>\n",
       "</div>"
      ],
      "text/plain": [
       "   year  NumberConstructionPeerYear  T1  T2  T3  T4\n",
       "0  2013                          11  50  40  30  20\n",
       "1  2014                         104  40  40  20  14\n",
       "2  2015                          88  60  50  25  23\n",
       "3  2016                          86  70  60  36  40\n",
       "4  2017                          96  75  50  45  37\n",
       "5  2018                          60  78  60  30  28"
      ]
     },
     "execution_count": 184,
     "metadata": {},
     "output_type": "execute_result"
    }
   ],
   "source": [
    "data_logement"
   ]
  },
  {
   "cell_type": "code",
   "execution_count": 185,
   "metadata": {},
   "outputs": [
    {
     "data": {
      "text/plain": [
       "LinearRegression(copy_X=True, fit_intercept=True, n_jobs=None,\n",
       "         normalize=False)"
      ]
     },
     "execution_count": 185,
     "metadata": {},
     "output_type": "execute_result"
    }
   ],
   "source": [
    "reg = linear_model.LinearRegression()\n",
    "\n",
    "features=data_logement[['T1','T2','T3','T4']]\n",
    "target=data_logement.NumberConstructionPeerYear\n",
    "\n",
    "reg.fit(features,target)\n"
   ]
  },
  {
   "cell_type": "code",
   "execution_count": 186,
   "metadata": {},
   "outputs": [
    {
     "data": {
      "text/plain": [
       "0    50\n",
       "1    40\n",
       "2    60\n",
       "3    70\n",
       "4    75\n",
       "5    78\n",
       "Name: T1, dtype: int64"
      ]
     },
     "execution_count": 186,
     "metadata": {},
     "output_type": "execute_result"
    }
   ],
   "source": [
    "data_logement.iloc[:,2]"
   ]
  },
  {
   "cell_type": "code",
   "execution_count": 187,
   "metadata": {},
   "outputs": [
    {
     "data": {
      "text/plain": [
       "0     52.544923\n",
       "1     66.888224\n",
       "2    102.186071\n",
       "3     93.599681\n",
       "4     72.947634\n",
       "5     56.833466\n",
       "dtype: float64"
      ]
     },
     "execution_count": 187,
     "metadata": {},
     "output_type": "execute_result"
    }
   ],
   "source": [
    "reg.coef_[0]*data_logement.T1+reg.coef_[1]*data_logement.T2+reg.coef_[2]*data_logement.T3+reg.coef_[3]*data_logement.T4+reg.intercept_"
   ]
  },
  {
   "cell_type": "code",
   "execution_count": 188,
   "metadata": {},
   "outputs": [
    {
     "data": {
      "text/plain": [
       "0     52.544923\n",
       "1     66.888224\n",
       "2    102.186071\n",
       "3     93.599681\n",
       "4     72.947634\n",
       "5     56.833466\n",
       "dtype: float64"
      ]
     },
     "execution_count": 188,
     "metadata": {},
     "output_type": "execute_result"
    }
   ],
   "source": [
    "\n",
    "res=0\n",
    "for idx, val in enumerate(reg.coef_):\n",
    "    result=reg.coef_[idx]*data_logement.iloc[:,idx+2]\n",
    "    \n",
    "    res=res+result\n",
    "\n",
    "res= res+ reg.intercept_\n",
    "res\n",
    "#340.642184-641.041220-549.026656+335.123826+reg.intercept_\n"
   ]
  },
  {
   "cell_type": "code",
   "execution_count": 200,
   "metadata": {},
   "outputs": [
    {
     "data": {
      "text/plain": [
       "<matplotlib.legend.Legend at 0x17486e90>"
      ]
     },
     "execution_count": 200,
     "metadata": {},
     "output_type": "execute_result"
    },
    {
     "data": {
      "image/png": "[encoded data removed]",
      "text/plain": [
       "<Figure size 1080x720 with 1 Axes>"
      ]
     },
     "metadata": {},
     "output_type": "display_data"
    }
   ],
   "source": [
    "\n",
    "#sns.palplot(sns.light_palette(\"green\"))\n",
    "sns.set()\n",
    "sns.color_palette(\"PuBuGn_d\")\n",
    "plt.plot(data_logement.year,data_logement.T1)\n",
    "plt.plot(data_logement.year,data_logement.T2)\n",
    "plt.plot(data_logement.year,data_logement.T3)\n",
    "plt.plot(data_logement.year,data_logement.T4)\n",
    "plt.plot(data_logement.year,data_logement.NumberConstructionPeerYear)\n",
    "plt.plot(data_logement.year,reg.coef_[0]*data_logement.T1+reg.coef_[1]*data_logement.T2+reg.coef_[2]*data_logement.T3\n",
    "         +reg.coef_[3]*data_logement.T4+reg.intercept_, color=\"black\", linewidth=2)\n",
    "\n",
    "\n",
    "\n",
    "plt.plot(data_logement.year,reg.coef_[0]*data_logement.T1+reg.coef_[1]*data_logement.T2+reg.intercept_, color=\"grey\", linewidth=2)\n",
    "\n",
    "\n",
    "plt.rcParams['figure.figsize'] = [15, 10]\n",
    "plt.legend()"
   ]
  },
  {
   "cell_type": "code",
   "execution_count": 190,
   "metadata": {},
   "outputs": [
    {
     "data": {
      "text/plain": [
       "6"
      ]
     },
     "execution_count": 190,
     "metadata": {},
     "output_type": "execute_result"
    }
   ],
   "source": [
    "data_logement.columns.size"
   ]
  },
  {
   "cell_type": "code",
   "execution_count": 191,
   "metadata": {},
   "outputs": [
    {
     "data": {
      "text/plain": [
       "array([[50, 40, 30, 20]], dtype=int64)"
      ]
     },
     "execution_count": 191,
     "metadata": {},
     "output_type": "execute_result"
    }
   ],
   "source": [
    "features.iloc[:1,:].values\n"
   ]
  },
  {
   "cell_type": "code",
   "execution_count": 194,
   "metadata": {},
   "outputs": [
    {
     "name": "stdout",
     "output_type": "stream",
     "text": [
      "T1\n",
      "T2\n",
      "T3\n",
      "T4\n"
     ]
    },
    {
     "data": {
      "image/png": "[encoded data removed]",
      "text/plain": [
       "<Figure size 1080x720 with 1 Axes>"
      ]
     },
     "metadata": {},
     "output_type": "display_data"
    },
    {
     "data": {
      "image/png": "[encoded data removed]",
      "text/plain": [
       "<Figure size 432x72 with 1 Axes>"
      ]
     },
     "metadata": {},
     "output_type": "display_data"
    }
   ],
   "source": [
    "fig, ax = plt.subplots()\n",
    "\n",
    "for val in features.columns:\n",
    "    ax.scatter(data_logement.iloc[:,0],features.iloc[:data_logement.size,0])\n",
    "    print(val)"
   ]
  },
  {
   "cell_type": "code",
   "execution_count": 123,
   "metadata": {},
   "outputs": [
    {
     "data": {
      "text/plain": [
       "<matplotlib.axes._subplots.AxesSubplot at 0x1557b810>"
      ]
     },
     "execution_count": 123,
     "metadata": {},
     "output_type": "execute_result"
    },
    {
     "data": {
      "image/png": "[encoded data removed]",
      "text/plain": [
       "<Figure size 432x432 with 1 Axes>"
      ]
     },
     "metadata": {},
     "output_type": "display_data"
    }
   ],
   "source": [
    "\n",
    "figBars, axBars = plt.subplots()\n",
    "\n",
    "#ax = data_logement.plot.bar(x=data_logement.columns[0],y=[data_logement.columns[val] for val in range(1,data_logement.columns.size)], rot=0)\n",
    "data=data_logement\n",
    "\n",
    "\n",
    "\n",
    "#data.plot(kind='pie',y=data.iloc[:1,1:].values, rot=0,ax=axBars,legend=False)\n",
    "\n",
    "data_col =[data.columns[val] for val in range(1,data.columns.size)]\n",
    "series = pd.Series(data.iloc[:1,1:].values[0], \n",
    "                   index=data_col, \n",
    "                   name='pie data')\n",
    "\n",
    "series.plot.pie(figsize=(6, 6),autopct='%1.1f%%')"
   ]
  },
  {
   "cell_type": "code",
   "execution_count": 139,
   "metadata": {},
   "outputs": [
    {
     "name": "stdout",
     "output_type": "stream",
     "text": [
      "2013\n",
      "[11 50 40 30 20]\n",
      "2014\n",
      "[104  40  40  20  14]\n",
      "2015\n",
      "[88 60 50 25 23]\n",
      "2016\n",
      "[86 70 60 36 40]\n",
      "2017\n",
      "[96 75 50 45 37]\n",
      "2018\n",
      "[60 78 60 30 28]\n"
     ]
    }
   ],
   "source": [
    "for index, row in data.iterrows():\n",
    "    print(row[0])\n",
    "    print(row[1:].values)"
   ]
  },
  {
   "cell_type": "code",
   "execution_count": 145,
   "metadata": {},
   "outputs": [
    {
     "data": {
      "text/plain": [
       "<matplotlib.axes._subplots.AxesSubplot at 0x169cbc90>"
      ]
     },
     "execution_count": 145,
     "metadata": {},
     "output_type": "execute_result"
    },
    {
     "data": {
      "image/png": "[encoded data removed]",
      "text/plain": [
       "<Figure size 432x432 with 1 Axes>"
      ]
     },
     "metadata": {},
     "output_type": "display_data"
    }
   ],
   "source": [
    "fig1, ax1= plt.subplots()\n",
    "fruits = ['apples', 'pears', 'cherries', 'bananas']\n",
    "series = pd.Series([20, 30, 40, 10], \n",
    "                   index=fruits, \n",
    "                   name='series')\n",
    "#explode = [0, 0.10, 0.40, 0.7]\n",
    "series.plot(kind='pie',figsize=(6, 6),ax=ax1)"
   ]
  },
  {
   "cell_type": "code",
   "execution_count": null,
   "metadata": {},
   "outputs": [],
   "source": []
  },
  {
   "cell_type": "code",
   "execution_count": 179,
   "metadata": {},
   "outputs": [
    {
     "ename": "NameError",
     "evalue": "name 'rainbow' is not defined",
     "output_type": "error",
     "traceback": [
      "\u001b[1;31m---------------------------------------------------------------------------\u001b[0m",
      "\u001b[1;31mNameError\u001b[0m                                 Traceback (most recent call last)",
      "\u001b[1;32m<ipython-input-179-9420701e7bcf>\u001b[0m in \u001b[0;36m<module>\u001b[1;34m\u001b[0m\n\u001b[0;32m      1\u001b[0m plt.plot(data_logement.iloc[:,0],features.iloc[:data_logement.size,0],\n\u001b[1;32m----> 2\u001b[1;33m          pch = 15, col = rainbow(4, start = 0.35, end = 0.6)[z])\n\u001b[0m",
      "\u001b[1;31mNameError\u001b[0m: name 'rainbow' is not defined"
     ]
    }
   ],
   "source": [
    "plt.plot(data_logement.iloc[:,0],features.iloc[:data_logement.size,0],\n",
    "         pch = 15, col = rainbow(4, start = 0.35, end = 0.6)[z])"
   ]
  },
  {
   "cell_type": "code",
   "execution_count": null,
   "metadata": {},
   "outputs": [],
   "source": []
  }
 ],
 "metadata": {
  "kernelspec": {
   "display_name": "Python 3",
   "language": "python",
   "name": "python3"
  },
  "language_info": {
   "codemirror_mode": {
    "name": "ipython",
    "version": 3
   },
   "file_extension": ".py",
   "mimetype": "text/x-python",
   "name": "python",
   "nbconvert_exporter": "python",
   "pygments_lexer": "ipython3",
   "version": "3.7.0"
  }
 },
 "nbformat": 4,
 "nbformat_minor": 2
}
